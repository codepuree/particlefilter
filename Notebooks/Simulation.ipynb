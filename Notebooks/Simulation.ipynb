{
 "cells": [
  {
   "cell_type": "markdown",
   "metadata": {},
   "source": [
    "This notebook simulates the roboter"
   ]
  },
  {
   "cell_type": "markdown",
   "metadata": {},
   "source": [
    "## Setup environment"
   ]
  },
  {
   "cell_type": "code",
   "execution_count": 4,
   "metadata": {},
   "outputs": [
    {
     "name": "stdout",
     "output_type": "stream",
     "text": [
      "\n"
     ]
    }
   ],
   "source": [
    "close all;\n",
    "clear all;\n",
    "clc;\n",
    "\n",
    "cd('../src');"
   ]
  },
  {
   "cell_type": "markdown",
   "metadata": {},
   "source": [
    "## Load map"
   ]
  },
  {
   "cell_type": "code",
   "execution_count": 5,
   "metadata": {},
   "outputs": [
    {
     "name": "stdout",
     "output_type": "stream",
     "text": [
      "\n"
     ]
    }
   ],
   "source": [
    "map = LoadMap('../Data/Vorgabe_update.png');"
   ]
  },
  {
   "cell_type": "code",
   "execution_count": 6,
   "metadata": {},
   "outputs": [
    {
     "name": "stdout",
     "output_type": "stream",
     "text": [
      "\n"
     ]
    },
    {
     "data": {
      "image/png": "[encoded data removed]",
      "text/plain": [
       "<IPython.core.display.Image object>"
      ]
     },
     "metadata": {},
     "output_type": "display_data"
    }
   ],
   "source": [
    "show(map);"
   ]
  },
  {
   "cell_type": "markdown",
   "metadata": {},
   "source": [
    "##  Create trajectory"
   ]
  },
  {
   "cell_type": "code",
   "execution_count": 10,
   "metadata": {},
   "outputs": [
    {
     "name": "stdout",
     "output_type": "stream",
     "text": [
      "\n"
     ]
    }
   ],
   "source": [
    "waypoints = [41 27;42 26; 47 17; 47 15; 46 14; 42 12; 40 13; 39 14; 33 24;33 27; 34 28;41 27];\n",
    "t = 0:1:length(waypoints)-1;\n",
    "l_t=numel(t);\n",
    "angles = zeros(l_t,1);  %Richtungswinkel\n",
    "\n",
    "% Calculate Angle\n",
    "for i=1:l_t\n",
    "    if i == l_t\n",
    "        angles(i)=angles(i-1) + 0.002;\n",
    "    else\n",
    "        angles(i) = atan2(waypoints(i+1,2) - waypoints(i,2), waypoints(i+1,1) - waypoints(i,1));\n",
    "    end\n",
    "end"
   ]
  },
  {
   "cell_type": "markdown",
   "metadata": {},
   "source": [
    "### Interpolate trajrctory"
   ]
  },
  {
   "cell_type": "code",
   "execution_count": 19,
   "metadata": {},
   "outputs": [
    {
     "name": "stdout",
     "output_type": "stream",
     "text": [
      "\n"
     ]
    }
   ],
   "source": [
    "intervall = 0:0.5:l_t;\n",
    "xq = interp1(t, waypoints(:,1), intervall, 'line');\n",
    "yq = interp1(t, waypoints(:,2), intervall, 'line');\n",
    "aq = interp1(t, angles(:),      intervall, 'line');\n",
    "\n",
    "angle = [0, pi/6, pi/3, pi/2, 4*pi/6, 5*pi/6, pi];\n",
    "angle = angle + pi / 2;\n",
    "aq    = aq + pi / 2;\n",
    "\n",
    "maxrange = 5;"
   ]
  },
  {
   "cell_type": "code",
   "execution_count": 37,
   "metadata": {},
   "outputs": [
    {
     "name": "stdout",
     "output_type": "stream",
     "text": [
      "\n",
      "robotPose =\n",
      "\n",
      "   NaN   NaN   NaN\n",
      "\n",
      "\n",
      "robotPose =\n",
      "\n",
      "   NaN   NaN   NaN\n",
      "\n",
      "\n"
     ]
    },
    {
     "data": {
      "image/png": "[encoded data removed]",
      "text/plain": [
       "<IPython.core.display.Image object>"
      ]
     },
     "metadata": {},
     "output_type": "display_data"
    }
   ],
   "source": [
    "for j = 1 : numel(intervall)\n",
    "   figure(1);\n",
    "   show(map)\n",
    "   hold on\n",
    "   \n",
    "   robotPose       = [xq(j), yq(j), aq(j)];\n",
    "   \n",
    "   if ~isnan(robotPose(1)) || ~isnan(robotPose(2)) || ~isnan(robotPose(3))\n",
    "       intersectionPts = rayIntersection(map, robotPose, angle, maxrange);\n",
    "       direction       = rayIntersection(map, robotPose, -pi/2, 30);   %direction\n",
    "\n",
    "       plot(robotPose(1), robotPose(2), 'ob') % Robot pose\n",
    "\n",
    "       for i = 1:size(intersectionPts)\n",
    "            plot([robotPose(1), intersectionPts(i, 1)],...\n",
    "                [robotPose(2), intersectionPts(i, 2)], '-bx') % Plot intersecting rays\n",
    "       end\n",
    "\n",
    "       plot(xq, yq);\n",
    "       plot([robotPose(1), direction(1, 1)],...\n",
    "                [robotPose(2), direction(1, 2)], '-rx') % Plot direction\n",
    "\n",
    "        pause(1/2);\n",
    "        hold off\n",
    "        F(j) = getframe(gcf);\n",
    "        drawnow\n",
    "    else\n",
    "        robotPose       \n",
    "    end\n",
    "end"
   ]
  },
  {
   "cell_type": "markdown",
   "metadata": {},
   "source": [
    "## Store as video"
   ]
  },
  {
   "cell_type": "markdown",
   "metadata": {},
   "source": [
    "### Create the video writer with 1 fps"
   ]
  },
  {
   "cell_type": "code",
   "execution_count": 38,
   "metadata": {},
   "outputs": [
    {
     "name": "stdout",
     "output_type": "stream",
     "text": [
      "\n"
     ]
    }
   ],
   "source": [
    "writerObj = VideoWriter('../myVideo.mp4', 'MPEG-4');\n",
    "writerObj.FrameRate = 10; % sets the seconds per image"
   ]
  },
  {
   "cell_type": "markdown",
   "metadata": {},
   "source": [
    "### Open the video writer"
   ]
  },
  {
   "cell_type": "code",
   "execution_count": 39,
   "metadata": {},
   "outputs": [
    {
     "name": "stdout",
     "output_type": "stream",
     "text": [
      "\n"
     ]
    }
   ],
   "source": [
    "open(writerObj);\n",
    "for i = 1 : length(F)\n",
    "    writeVideo(writerObj, F(i));\n",
    "end\n",
    "close(writerObj);"
   ]
  },
  {
   "cell_type": "markdown",
   "metadata": {},
   "source": [
    "<video controls src=\"../myVideo.mp4\" />"
   ]
  }
 ],
 "metadata": {
  "kernelspec": {
   "display_name": "Matlab",
   "language": "matlab",
   "name": "matlab"
  },
  "language_info": {
   "codemirror_mode": "octave",
   "file_extension": ".m",
   "help_links": [
    {
     "text": "MetaKernel Magics",
     "url": "https://github.com/calysto/metakernel/blob/master/metakernel/magics/README.md"
    }
   ],
   "mimetype": "text/x-matlab",
   "name": "matlab",
   "version": "0.14.2"
  }
 },
 "nbformat": 4,
 "nbformat_minor": 2
}
