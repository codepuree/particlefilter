{
 "cells": [
  {
   "cell_type": "code",
   "execution_count": 1,
   "metadata": {},
   "outputs": [
    {
     "name": "stdout",
     "output_type": "stream",
     "text": [
      "\n"
     ]
    }
   ],
   "source": [
    "cd('../src/');"
   ]
  },
  {
   "cell_type": "code",
   "execution_count": 2,
   "metadata": {},
   "outputs": [
    {
     "name": "stdout",
     "output_type": "stream",
     "text": [
      "\n"
     ]
    }
   ],
   "source": [
    "fhandle = fopen('../Data/Vorgabe.txt','r');"
   ]
  },
  {
   "cell_type": "code",
   "execution_count": 3,
   "metadata": {},
   "outputs": [
    {
     "name": "stdout",
     "output_type": "stream",
     "text": [
      "\n"
     ]
    }
   ],
   "source": [
    "formatSpec = '%f %f %f %d';\n",
    "sizeA = [4 Inf];"
   ]
  },
  {
   "cell_type": "code",
   "execution_count": 4,
   "metadata": {},
   "outputs": [
    {
     "name": "stdout",
     "output_type": "stream",
     "text": [
      "\n"
     ]
    }
   ],
   "source": [
    "A = fscanf(fhandle,formatSpec,sizeA);"
   ]
  },
  {
   "cell_type": "code",
   "execution_count": 5,
   "metadata": {},
   "outputs": [
    {
     "name": "stdout",
     "output_type": "stream",
     "text": [
      "\n"
     ]
    }
   ],
   "source": [
    "fclose(fhandle);"
   ]
  },
  {
   "cell_type": "code",
   "execution_count": 6,
   "metadata": {},
   "outputs": [
    {
     "name": "stdout",
     "output_type": "stream",
     "text": [
      "\n",
      "ans =\n",
      "\n",
      "           4     1252931\n",
      "\n",
      "\n"
     ]
    }
   ],
   "source": [
    "size(A)"
   ]
  },
  {
   "cell_type": "code",
   "execution_count": 7,
   "metadata": {},
   "outputs": [
    {
     "name": "stdout",
     "output_type": "stream",
     "text": [
      "\n",
      "ans =\n",
      "\n",
      "../Data/Vorgabe.png\n",
      "\n",
      "\n"
     ]
    }
   ],
   "source": [
    "'../Data/Vorgabe.png'"
   ]
  },
  {
   "cell_type": "code",
   "execution_count": 8,
   "metadata": {},
   "outputs": [
    {
     "name": "stdout",
     "output_type": "stream",
     "text": [
      "\n",
      "ans =\n",
      "\n",
      "           2     1252931\n",
      "\n",
      "\n"
     ]
    }
   ],
   "source": [
    "clear B;\n",
    "B(1, :) = A(1, :) - A(1, 1);\n",
    "B(2, :) = A(2, :) - A(2, 1);\n",
    "\n",
    "B(1, :) =  B(1, :) + abs(min(B(1, :))) + 1;\n",
    "B(2, :) =  B(2, :) + abs(min(B(2, :))) + 1;\n",
    "\n",
    "size(B)"
   ]
  },
  {
   "cell_type": "code",
   "execution_count": 9,
   "metadata": {},
   "outputs": [
    {
     "name": "stdout",
     "output_type": "stream",
     "text": [
      "\n",
      "minX =\n",
      "\n",
      "     1\n",
      "\n",
      "\n",
      "maxX =\n",
      "\n",
      "   30.8803\n",
      "\n",
      "\n",
      "diffX =\n",
      "\n",
      "   29.8803\n",
      "\n",
      "\n",
      "minY =\n",
      "\n",
      "     1\n",
      "\n",
      "\n",
      "maxY =\n",
      "\n",
      "   26.7464\n",
      "\n",
      "\n",
      "diffY =\n",
      "\n",
      "   25.7464\n",
      "\n",
      "\n"
     ]
    }
   ],
   "source": [
    "minX  = min(B(1, :))\n",
    "maxX  = max(B(1, :))\n",
    "diffX = maxX - minX\n",
    "\n",
    "minY  = min(B(2, :))\n",
    "maxY  = max(B(2, :))\n",
    "diffY = maxY - minY"
   ]
  },
  {
   "cell_type": "code",
   "execution_count": 10,
   "metadata": {},
   "outputs": [
    {
     "name": "stdout",
     "output_type": "stream",
     "text": [
      "Warning: Image is too big to fit on screen; displaying at 25%\n",
      "> In images.internal.initSize (line 71)\n",
      "  In imshow (line 327)\n",
      "\n",
      "ans =\n",
      "\n",
      "        2675        3089\n",
      "\n",
      "\n"
     ]
    },
    {
     "data": {
      "image/png": "[encoded data removed]",
      "text/plain": [
       "<IPython.core.display.Image object>"
      ]
     },
     "metadata": {},
     "output_type": "display_data"
    }
   ],
   "source": [
    "map = logical(zeros(ceil(diffY * 100), ceil(diffX * 100)));\n",
    "\n",
    "for i = 1 : length(A)\n",
    "    x = ceil(B(1, i) * 100);\n",
    "    y = ceil(B(2, i) * 100);\n",
    "    map(y, x) = 1;\n",
    "end\n",
    "\n",
    "\n",
    "mapFlip = flip(map, 1);\n",
    "imgMap = imcomplement(mapFlip);\n",
    "imshow(imgMap);\n",
    "imwrite(imgMap, '../Data/Vorgabe.png')\n",
    "\n",
    "size(imgMap)"
   ]
  },
  {
   "cell_type": "code",
   "execution_count": null,
   "metadata": {},
   "outputs": [],
   "source": [
    "sizeX = floor(diffX * 100)\n",
    "sizeY = floor(diffY * 100)\n",
    "figure('name', 'display scatter', 'pos', [0, 0, sizeX, sizeY]);\n",
    "\n",
    "% Plot\n",
    "scatter(A(1, :), A(2, :), 0.01, '.', 'black');\n",
    "\n",
    "% Labels\n",
    "xlim([minX, maxX]);\n",
    "ylim([minY, maxY]);\n",
    "\n",
    "% Axis stuff\n",
    "ax = gca;\n",
    "axis equal;\n",
    "set(ax, 'Visible', 'off');\n",
    "outerpos = ax.OuterPosition;\n",
    "ti = ax.TightInset; \n",
    "left = outerpos(1) + ti(1);\n",
    "bottom = outerpos(2) + ti(2);\n",
    "ax_width = outerpos(3) - ti(1) - ti(3);\n",
    "ax_height = outerpos(4) - ti(2) - ti(4);\n",
    "ax.Position = [left bottom ax_width ax_height];\n",
    "\n",
    "% figure stuff\n",
    "fig = gcf;\n",
    "fig.PaperPositionMode = 'auto';\n",
    "fig_pos = fig.PaperPosition\n",
    "fig.PaperPosition = [0 0 sizeX sizeY]\n",
    "fig.PaperSize = [sizeX sizeY];\n",
    "\n",
    "% Save\n",
    "saveas(gcf, '../Data/Vorgabe.png');"
   ]
  },
  {
   "cell_type": "markdown",
   "metadata": {},
   "source": [
    "## Load image"
   ]
  },
  {
   "cell_type": "code",
   "execution_count": 11,
   "metadata": {},
   "outputs": [
    {
     "name": "stdout",
     "output_type": "stream",
     "text": [
      "\n",
      "ans =\n",
      "\n",
      "        2675        3089\n",
      "\n",
      "\n"
     ]
    }
   ],
   "source": [
    "imgOrg = imread('../Data/Vorgabe.png');\n",
    "\n",
    "% imgCrop = imcrop(imgOrg, []);\n",
    "size(imgOrg)"
   ]
  },
  {
   "cell_type": "code",
   "execution_count": null,
   "metadata": {},
   "outputs": [],
   "source": [
    "sim = size(imgOrg)\n",
    "imX = sim(2) - floor(diffX * 100)\n",
    "imY = sim(1) - floor(diffY * 100)\n",
    "\n",
    "imgCrop = imcrop(imgOrg, [imX / 2, imY / 2, imX / 2 + diffX, imY / 2 + diffY]);\n",
    "\n",
    "imshow(imgCrop)"
   ]
  },
  {
   "cell_type": "code",
   "execution_count": 12,
   "metadata": {},
   "outputs": [
    {
     "name": "stdout",
     "output_type": "stream",
     "text": [
      "Warning: Image is too big to fit on screen; displaying at 25%\n",
      "> In images.internal.initSize (line 71)\n",
      "  In imshow (line 327)\n",
      "\n"
     ]
    },
    {
     "data": {
      "image/png": "[encoded data removed]",
      "text/plain": [
       "<IPython.core.display.Image object>"
      ]
     },
     "metadata": {},
     "output_type": "display_data"
    }
   ],
   "source": [
    "figure('name', 'Original');\n",
    "imshow(imgOrg);\n",
    "title('Original');"
   ]
  },
  {
   "cell_type": "markdown",
   "metadata": {},
   "source": [
    "## Binary image"
   ]
  },
  {
   "cell_type": "code",
   "execution_count": 16,
   "metadata": {},
   "outputs": [
    {
     "name": "stdout",
     "output_type": "stream",
     "text": [
      "\n",
      "ans =\n",
      "\n",
      "        2675        3089\n",
      "\n",
      "\n",
      "ans =\n",
      "\n",
      "  logical\n",
      "\n",
      "   1\n",
      "\n",
      "\n"
     ]
    }
   ],
   "source": [
    "% imgBin = imbinarize(rgb2gray(imgOrg));\n",
    "imgBin = imgOrg;\n",
    "size(imgBin)\n",
    "\n",
    "\n",
    "imgBin(1, 1)"
   ]
  },
  {
   "cell_type": "code",
   "execution_count": 17,
   "metadata": {},
   "outputs": [
    {
     "name": "stdout",
     "output_type": "stream",
     "text": [
      "Warning: Image is too big to fit on screen; displaying at 25%\n",
      "> In images.internal.initSize (line 71)\n",
      "  In imshow (line 327)\n",
      "\n"
     ]
    },
    {
     "data": {
      "image/png": "[encoded data removed]",
      "text/plain": [
       "<IPython.core.display.Image object>"
      ]
     },
     "metadata": {},
     "output_type": "display_data"
    }
   ],
   "source": [
    "figure('name', 'Binary');\n",
    "imshow(imgBin);\n",
    "title('Binary');"
   ]
  },
  {
   "cell_type": "markdown",
   "metadata": {},
   "source": [
    "## Median filter"
   ]
  },
  {
   "cell_type": "code",
   "execution_count": null,
   "metadata": {},
   "outputs": [],
   "source": [
    "imgMed = medfilt2(rgb2gray(imgOrg));\n",
    "imgMed = medfilt2(imgMed);"
   ]
  },
  {
   "cell_type": "code",
   "execution_count": null,
   "metadata": {},
   "outputs": [],
   "source": [
    "figure('name', 'Median');\n",
    "imshow(imgMed);\n",
    "title('Median');"
   ]
  },
  {
   "cell_type": "markdown",
   "metadata": {},
   "source": [
    "## Canny filter"
   ]
  },
  {
   "cell_type": "code",
   "execution_count": null,
   "metadata": {},
   "outputs": [],
   "source": [
    "imgCan = edge(imgBin, 'canny');"
   ]
  },
  {
   "cell_type": "code",
   "execution_count": null,
   "metadata": {},
   "outputs": [],
   "source": [
    "figure('name', 'Canny');\n",
    "imshow(imgCan);\n",
    "title('Canny');"
   ]
  },
  {
   "cell_type": "markdown",
   "metadata": {},
   "source": [
    "## Erode median image"
   ]
  },
  {
   "cell_type": "code",
   "execution_count": 26,
   "metadata": {},
   "outputs": [
    {
     "name": "stdout",
     "output_type": "stream",
     "text": [
      "\n"
     ]
    }
   ],
   "source": [
    "strDia = strel('disk', 2);\n",
    "imgEro = imopen(imgBin, strDia);"
   ]
  },
  {
   "cell_type": "code",
   "execution_count": 27,
   "metadata": {},
   "outputs": [
    {
     "name": "stdout",
     "output_type": "stream",
     "text": [
      "Warning: Image is too big to fit on screen; displaying at 25%\n",
      "> In images.internal.initSize (line 71)\n",
      "  In imshow (line 327)\n",
      "\n"
     ]
    },
    {
     "data": {
      "image/png": "[encoded data removed]",
      "text/plain": [
       "<IPython.core.display.Image object>"
      ]
     },
     "metadata": {},
     "output_type": "display_data"
    }
   ],
   "source": [
    "figure('name', 'Erode');\n",
    "imshow(imgEro);\n",
    "title('Erode');"
   ]
  },
  {
   "cell_type": "code",
   "execution_count": 28,
   "metadata": {},
   "outputs": [
    {
     "name": "stdout",
     "output_type": "stream",
     "text": [
      "\n"
     ]
    }
   ],
   "source": [
    "m = [\n",
    "    0, 0, 0;\n",
    "    0, 1, 0;\n",
    "    0, 0, 0\n",
    "];\n",
    "imgCus = imfilter(imgBin, m);"
   ]
  },
  {
   "cell_type": "code",
   "execution_count": 29,
   "metadata": {},
   "outputs": [
    {
     "name": "stdout",
     "output_type": "stream",
     "text": [
      "Warning: Image is too big to fit on screen; displaying at 25%\n",
      "> In images.internal.initSize (line 71)\n",
      "  In imshow (line 327)\n",
      "\n"
     ]
    },
    {
     "data": {
      "image/png": "[encoded data removed]",
      "text/plain": [
       "<IPython.core.display.Image object>"
      ]
     },
     "metadata": {},
     "output_type": "display_data"
    }
   ],
   "source": [
    "figure();\n",
    "imshow(imgCus);"
   ]
  },
  {
   "cell_type": "code",
   "execution_count": 30,
   "metadata": {},
   "outputs": [
    {
     "name": "stdout",
     "output_type": "stream",
     "text": [
      "\n"
     ]
    }
   ],
   "source": [
    "[rows, columns] = size(imgBin);\n",
    "imgNew = ones(rows - 2, columns - 2);\n",
    "\n",
    "for row = 3 : rows - 2\n",
    "    for column = 3 : columns - 2\n",
    "        sumP = sum([\n",
    "            sum(imgBin(row - 2, (column - 2) : (column + 2))),...\n",
    "            sum(imgBin(row - 1, (column - 2) : (column + 2))),...\n",
    "            sum(imgBin(row,     (column - 2) : (column + 2))),...\n",
    "            sum(imgBin(row + 1, (column - 2) : (column + 2))),...\n",
    "            sum(imgBin(row + 2, (column - 2) : (column + 2)))\n",
    "        ]);\n",
    "        if sumP <= 3\n",
    "            imgNew(row - 1, column - 1) = 0;\n",
    "        else\n",
    "            imgNew(row - 1, column - 1) = 1;\n",
    "        end\n",
    "    end\n",
    "end"
   ]
  },
  {
   "cell_type": "code",
   "execution_count": 31,
   "metadata": {},
   "outputs": [
    {
     "name": "stdout",
     "output_type": "stream",
     "text": [
      "Warning: Image is too big to fit on screen; displaying at 33%\n",
      "> In images.internal.initSize (line 71)\n",
      "  In imshow (line 327)\n",
      "\n"
     ]
    },
    {
     "data": {
      "image/png": "[encoded data removed]",
      "text/plain": [
       "<IPython.core.display.Image object>"
      ]
     },
     "metadata": {},
     "output_type": "display_data"
    }
   ],
   "source": [
    "imshow(imgNew);"
   ]
  },
  {
   "cell_type": "code",
   "execution_count": 32,
   "metadata": {},
   "outputs": [
    {
     "name": "stdout",
     "output_type": "stream",
     "text": [
      "Warning: Image is too big to fit on screen; displaying at 33%\n",
      "> In images.internal.initSize (line 71)\n",
      "  In imshow (line 327)\n",
      "\n"
     ]
    },
    {
     "data": {
      "image/png": "[encoded data removed]",
      "text/plain": [
       "<IPython.core.display.Image object>"
      ]
     },
     "metadata": {},
     "output_type": "display_data"
    }
   ],
   "source": [
    "imgCan = edge(imgNew, 'canny');\n",
    "imshow(medfilt2(imgNew));"
   ]
  }
 ],
 "metadata": {
  "kernelspec": {
   "display_name": "Matlab",
   "language": "matlab",
   "name": "matlab"
  },
  "language_info": {
   "codemirror_mode": "octave",
   "file_extension": ".m",
   "help_links": [
    {
     "text": "MetaKernel Magics",
     "url": "https://github.com/calysto/metakernel/blob/master/metakernel/magics/README.md"
    }
   ],
   "mimetype": "text/x-matlab",
   "name": "matlab",
   "version": "0.14.2"
  }
 },
 "nbformat": 4,
 "nbformat_minor": 2
}
