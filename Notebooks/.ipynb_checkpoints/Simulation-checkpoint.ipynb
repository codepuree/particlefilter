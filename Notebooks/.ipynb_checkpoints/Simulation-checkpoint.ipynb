{
 "cells": [
  {
   "cell_type": "markdown",
   "metadata": {},
   "source": [
    "This notebook simulates the roboter"
   ]
  },
  {
   "cell_type": "markdown",
   "metadata": {},
   "source": [
    "## Setup environment"
   ]
  },
  {
   "cell_type": "code",
   "execution_count": 65,
   "metadata": {},
   "outputs": [
    {
     "name": "stdout",
     "output_type": "stream",
     "text": [
      "\n"
     ]
    }
   ],
   "source": [
    "close all;\n",
    "clear all;\n",
    "clc;\n",
    "\n",
    "cd('../src');"
   ]
  },
  {
   "cell_type": "markdown",
   "metadata": {},
   "source": [
    "## Load map"
   ]
  },
  {
   "cell_type": "code",
   "execution_count": 66,
   "metadata": {},
   "outputs": [
    {
     "name": "stdout",
     "output_type": "stream",
     "text": [
      "\n"
     ]
    }
   ],
   "source": [
    "map = LoadMap('../Data/Vorgabe_update.png');"
   ]
  },
  {
   "cell_type": "code",
   "execution_count": 67,
   "metadata": {},
   "outputs": [
    {
     "name": "stdout",
     "output_type": "stream",
     "text": [
      "\n"
     ]
    },
    {
     "data": {
      "image/png": "[encoded data removed]",
      "text/plain": [
       "<IPython.core.display.Image object>"
      ]
     },
     "metadata": {},
     "output_type": "display_data"
    }
   ],
   "source": [
    "show(map);"
   ]
  },
  {
   "cell_type": "markdown",
   "metadata": {},
   "source": [
    "##  Create trajectory"
   ]
  },
  {
   "cell_type": "code",
   "execution_count": 68,
   "metadata": {},
   "outputs": [
    {
     "name": "stdout",
     "output_type": "stream",
     "text": [
      "\n"
     ]
    }
   ],
   "source": [
    "waypoints = [41 27;42 26; 47 17; 47 15; 46 14; 42 12; 40 13; 39 14; 33 24;33 27; 34 28;41 27];\n",
    "t = 0:1:length(waypoints)-1;\n",
    "l_t=numel(t);\n",
    "\n",
    "% Calculate Angle\n",
    "for i=1:l_t\n",
    "    if i == l_t\n",
    "        waypoints(i, 3) = waypoints(i - 1, 3) + 0.002;\n",
    "    else\n",
    "        waypoints(i, 3) = atan2(waypoints(i + 1, 2) - waypoints(i, 2), waypoints(i + 1, 1) - waypoints(i, 1)) + pi + pi / 2;\n",
    "    end\n",
    "end"
   ]
  },
  {
   "cell_type": "markdown",
   "metadata": {},
   "source": [
    "### Interpolate trajrctory\n",
    "\n",
    "Equidistant interpolation"
   ]
  },
  {
   "cell_type": "code",
   "execution_count": 69,
   "metadata": {},
   "outputs": [
    {
     "name": "stdout",
     "output_type": "stream",
     "text": [
      "\n"
     ]
    }
   ],
   "source": [
    "stepLengths   = sqrt(sum(diff(waypoints, [], 1) .^ 2, 2));\n",
    "stepLengths   = [0; stepLengths]; % add the starting point\n",
    "cumulativeLen = cumsum(stepLengths);\n",
    "finalStepLocs = linspace(0,cumulativeLen(end), 100);\n",
    "finalPathXY   = interp1(cumulativeLen, waypoints, finalStepLocs);"
   ]
  },
  {
   "cell_type": "markdown",
   "metadata": {},
   "source": [
    "## Simulate"
   ]
  },
  {
   "cell_type": "code",
   "execution_count": 70,
   "metadata": {},
   "outputs": [
    {
     "name": "stderr",
     "output_type": "stream",
     "text": [
      "\u001b[1;31m\n",
      "  File D:\\LC-Laptop\\Projects\\jupyter notebooks\\7. Semester\\PartikelbasierteLokalisationsverfahren\\particlefilter\\src\\SimulateKinect.m, line 49, in SimulateKinect\n",
      "Undefined function or variable 'anglesteps'.\n",
      "\n",
      "\u001b[0m"
     ]
    },
    {
     "data": {
      "image/png": "[encoded data removed]",
      "text/plain": [
       "<IPython.core.display.Image object>"
      ]
     },
     "metadata": {},
     "output_type": "display_data"
    }
   ],
   "source": [
    "maxrange = 5;\n",
    "\n",
    "for j = 1 : length(finalPathXY)\n",
    "   figure(1);\n",
    "   subplot(1, 2, 1);\n",
    "   show(map)\n",
    "   hold on\n",
    "   robotPose(1) = finalPathXY(j, 1);\n",
    "   robotPose(2) = finalPathXY(j, 2);\n",
    "   robotPose(3) = finalPathXY(j, 3);\n",
    "   \n",
    "   if ~isnan(robotPose(1)) || ~isnan(robotPose(2)) || ~isnan(robotPose(3))\n",
    "       [thetas, rhos, xs, ys] = SimulateKinect(map, robotPose);\n",
    "       direction       = rayIntersection(map, robotPose, pi / 2, 30);   %direction\n",
    "\n",
    "       plot(robotPose(1), robotPose(2), 'ob'); % Robot pose\n",
    "\n",
    "       for i = 1:size(xs)\n",
    "            plot([robotPose(1), xs(i)],...\n",
    "                [robotPose(2), ys(i)], '-bx') % Plot intersecting rays\n",
    "       end\n",
    "\n",
    "       plot(finalPathXY(: , 1), finalPathXY(:, 2));\n",
    "       plot([robotPose(1), direction(1, 1)],...\n",
    "                [robotPose(2), direction(1, 2)], '-rx') % Plot direction\n",
    "\n",
    "        hold off\n",
    "        \n",
    "        subplot(1, 2, 2);\n",
    "        polarplot(thetas, rhos, '*');\n",
    "        title(['Polar coordinates' 10 'intersections: ' num2str(length(thetas))]);\n",
    "        \n",
    "        F(j) = getframe(gcf);\n",
    "        drawnow\n",
    "    else\n",
    "        robotPose       \n",
    "    end\n",
    "end"
   ]
  },
  {
   "cell_type": "code",
   "execution_count": 61,
   "metadata": {},
   "outputs": [
    {
     "name": "stderr",
     "output_type": "stream",
     "text": [
      "\u001b[1;31m\n",
      "  File D:\\LC-Laptop\\Projects\\jupyter notebooks\\7. Semester\\PartikelbasierteLokalisationsverfahren\\particlefilter\\src\\SimulateKinect.m, line 9, in SimulateKinect\n",
      "Index exceeds matrix dimensions.\n",
      "\n",
      "\u001b[0m"
     ]
    }
   ],
   "source": [
    "SimulateKinect(1, 2)"
   ]
  },
  {
   "cell_type": "markdown",
   "metadata": {},
   "source": [
    "## Store as video"
   ]
  },
  {
   "cell_type": "markdown",
   "metadata": {},
   "source": [
    "### Create the video writer with 1 fps"
   ]
  },
  {
   "cell_type": "code",
   "execution_count": 63,
   "metadata": {},
   "outputs": [
    {
     "name": "stdout",
     "output_type": "stream",
     "text": [
      "\n"
     ]
    }
   ],
   "source": [
    "writerObj = VideoWriter('../myVideo.mp4', 'MPEG-4');\n",
    "writerObj.FrameRate = 3; % sets the seconds per image"
   ]
  },
  {
   "cell_type": "markdown",
   "metadata": {},
   "source": [
    "### Open the video writer"
   ]
  },
  {
   "cell_type": "code",
   "execution_count": 64,
   "metadata": {},
   "outputs": [
    {
     "name": "stdout",
     "output_type": "stream",
     "text": [
      "\n"
     ]
    }
   ],
   "source": [
    "open(writerObj);\n",
    "for i = 1 : length(F)\n",
    "    writeVideo(writerObj, F(i));\n",
    "end\n",
    "close(writerObj);"
   ]
  },
  {
   "cell_type": "markdown",
   "metadata": {},
   "source": [
    "<video controls src=\"../myVideo.mp4\" />"
   ]
  },
  {
   "cell_type": "code",
   "execution_count": null,
   "metadata": {},
   "outputs": [],
   "source": []
  }
 ],
 "metadata": {
  "kernelspec": {
   "display_name": "Matlab",
   "language": "matlab",
   "name": "matlab"
  },
  "language_info": {
   "codemirror_mode": "octave",
   "file_extension": ".m",
   "help_links": [
    {
     "text": "MetaKernel Magics",
     "url": "https://github.com/calysto/metakernel/blob/master/metakernel/magics/README.md"
    }
   ],
   "mimetype": "text/x-matlab",
   "name": "matlab",
   "version": "0.14.2"
  }
 },
 "nbformat": 4,
 "nbformat_minor": 2
}
